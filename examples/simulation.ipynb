{
 "cells": [
  {
   "cell_type": "markdown",
   "metadata": {},
   "source": [
    "# Generate simple random example data"
   ]
  },
  {
   "cell_type": "code",
   "execution_count": 1,
   "metadata": {},
   "outputs": [],
   "source": [
    "import numpy as np\n",
    "import itertools\n",
    "from collections import Counter\n",
    "import matplotlib.pyplot as plt\n",
    "from mda import mda,draw_triangle\n",
    "np.random.seed(12345)\n",
    "\n",
    "#Number of genes\n",
    "ndim=100\n",
    "#Number of cells in each group\n",
    "ncell=200\n",
    "#Number of read counts per cell\n",
    "nread=10000\n",
    "#Biological variation strength\n",
    "sigma=1\n",
    "#Number of groups\n",
    "ngroup=3\n",
    "#Distances between other cell groups and reference cell group\n",
    "dists=np.array([[0,0.2],[0.5,0]])\n",
    "assert dists.shape==(ngroup-1,ngroup-1)\n",
    "#Color of each group (row) in RGB format (column)\n",
    "colors=np.eye(3)\n"
   ]
  },
  {
   "cell_type": "code",
   "execution_count": 2,
   "metadata": {},
   "outputs": [],
   "source": [
    "#Random vector to distinguish cell groups\n",
    "vecs=np.random.randn(ngroup-1,ndim)\n",
    "#Expression level difference\n",
    "lvs=dists@vecs\n",
    "#Prepend reference cell group\n",
    "lvs=np.r_[np.zeros_like(lvs[[0]]),lvs]\n",
    "#Add base expression levels\n",
    "lvs=lvs+np.random.randn(ndim)"
   ]
  },
  {
   "cell_type": "code",
   "execution_count": 3,
   "metadata": {},
   "outputs": [],
   "source": [
    "#Simluate expression levels with biological variations\n",
    "d=np.array([(np.random.randn(ncell,ndim)*sigma+x).T for x in lvs])\n",
    "#Convert to proportion\n",
    "d=np.exp(d)\n",
    "d=(d.transpose(1,0,2)/d.sum(axis=1)).transpose(1,2,0)\n",
    "assert d.shape==(ngroup,ncell,ndim)"
   ]
  },
  {
   "cell_type": "code",
   "execution_count": 4,
   "metadata": {},
   "outputs": [],
   "source": [
    "#Convert to read count\n",
    "d2=[[np.random.choice(np.arange(ndim),size=nread,p=x) for x in y] for y in d]\n",
    "d2=[[np.array(list(Counter(x).items())) for x in y] for y in d2]\n",
    "d3=np.zeros((ngroup,ndim,ncell),dtype=int)\n",
    "for xi,xj in itertools.product(range(ngroup),range(ncell)):\n",
    "\td3[xi,d2[xi][xj][:,0],xj]=d2[xi][xj][:,1]"
   ]
  },
  {
   "cell_type": "code",
   "execution_count": 5,
   "metadata": {},
   "outputs": [],
   "source": [
    "#Convert to mda input\n",
    "d3=d3.transpose(1,0,2).reshape(ndim,ngroup*ncell)\n",
    "dgroup=np.repeat(np.arange(ngroup).reshape(-1,1),ncell,axis=1).ravel()"
   ]
  },
  {
   "cell_type": "markdown",
   "metadata": {},
   "source": [
    "# Perform MDA dimension reduction"
   ]
  },
  {
   "cell_type": "code",
   "execution_count": 6,
   "metadata": {},
   "outputs": [
    {
     "name": "stderr",
     "output_type": "stream",
     "text": [
      "/usr/lib/python3.5/importlib/_bootstrap.py:222: RuntimeWarning: numpy.dtype size changed, may indicate binary incompatibility. Expected 96, got 88\n",
      "  return f(*args, **kwds)\n",
      "/usr/lib/python3.5/importlib/_bootstrap.py:222: RuntimeWarning: numpy.dtype size changed, may indicate binary incompatibility. Expected 96, got 88\n",
      "  return f(*args, **kwds)\n",
      "/usr/lib/python3.5/importlib/_bootstrap.py:222: RuntimeWarning: numpy.dtype size changed, may indicate binary incompatibility. Expected 96, got 88\n",
      "  return f(*args, **kwds)\n",
      "/usr/lib/python3.5/importlib/_bootstrap.py:222: RuntimeWarning: numpy.dtype size changed, may indicate binary incompatibility. Expected 96, got 88\n",
      "  return f(*args, **kwds)\n"
     ]
    }
   ],
   "source": [
    "dloc,dprob=mda(d3,dgroup)"
   ]
  },
  {
   "cell_type": "markdown",
   "metadata": {},
   "source": [
    "# Scatter plot of cells projected onto 2-dimensional MDA"
   ]
  },
  {
   "cell_type": "code",
   "execution_count": 7,
   "metadata": {},
   "outputs": [
    {
     "data": {
      "image/png": "[encoded data removed]",
      "text/plain": [
       "<Figure size 432x288 with 1 Axes>"
      ]
     },
     "metadata": {},
     "output_type": "display_data"
    }
   ],
   "source": [
    "for xi in range(ngroup):\n",
    "\tplt.scatter(*dloc[dgroup==xi].T,label='Group {}'.format(xi),s=20,lw=0,color=colors[xi]);\n",
    "plt.legend();\n",
    "plt.xlabel('MDA1')\n",
    "plt.ylabel('MDA2');\n",
    "plt.show()"
   ]
  },
  {
   "cell_type": "markdown",
   "metadata": {},
   "source": [
    "# Triangle plot of cell group overlaps through classification training error"
   ]
  },
  {
   "cell_type": "code",
   "execution_count": 8,
   "metadata": {},
   "outputs": [
    {
     "name": "stderr",
     "output_type": "stream",
     "text": [
      "/usr/lib/python3.5/importlib/_bootstrap.py:222: RuntimeWarning: numpy.dtype size changed, may indicate binary incompatibility. Expected 96, got 88\n",
      "  return f(*args, **kwds)\n",
      "/usr/lib/python3.5/importlib/_bootstrap.py:222: RuntimeWarning: numpy.dtype size changed, may indicate binary incompatibility. Expected 96, got 88\n",
      "  return f(*args, **kwds)\n"
     ]
    },
    {
     "data": {
      "image/png": "[encoded data removed]",
      "text/plain": [
       "<Figure size 144x144 with 1 Axes>"
      ]
     },
     "metadata": {},
     "output_type": "display_data"
    }
   ],
   "source": [
    "f=draw_triangle(dprob,dgroup,['Group {}'.format(x) for x in range(ngroup)],colors=colors)"
   ]
  },
  {
   "cell_type": "code",
   "execution_count": null,
   "metadata": {},
   "outputs": [],
   "source": []
  },
  {
   "cell_type": "code",
   "execution_count": null,
   "metadata": {},
   "outputs": [],
   "source": []
  },
  {
   "cell_type": "code",
   "execution_count": null,
   "metadata": {},
   "outputs": [],
   "source": []
  },
  {
   "cell_type": "code",
   "execution_count": null,
   "metadata": {},
   "outputs": [],
   "source": []
  },
  {
   "cell_type": "code",
   "execution_count": null,
   "metadata": {},
   "outputs": [],
   "source": []
  },
  {
   "cell_type": "code",
   "execution_count": null,
   "metadata": {},
   "outputs": [],
   "source": []
  },
  {
   "cell_type": "code",
   "execution_count": null,
   "metadata": {},
   "outputs": [],
   "source": []
  },
  {
   "cell_type": "code",
   "execution_count": null,
   "metadata": {},
   "outputs": [],
   "source": []
  }
 ],
 "metadata": {
  "kernelspec": {
   "display_name": "Python 3",
   "language": "python",
   "name": "python3"
  },
  "language_info": {
   "codemirror_mode": {
    "name": "ipython",
    "version": 3
   },
   "file_extension": ".py",
   "mimetype": "text/x-python",
   "name": "python",
   "nbconvert_exporter": "python",
   "pygments_lexer": "ipython3",
   "version": "3.5.2"
  }
 },
 "nbformat": 4,
 "nbformat_minor": 2
}
